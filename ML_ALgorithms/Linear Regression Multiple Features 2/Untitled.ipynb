{
 "cells": [
  {
   "cell_type": "markdown",
   "id": "fcd52a81-958a-46e9-b4f0-1f452f061474",
   "metadata": {},
   "source": [
    "### Columns in uciData: AT, V, AP, RH, PE"
   ]
  },
  {
   "cell_type": "markdown",
   "id": "dc7eaef5-11ba-4e3e-9ba0-8e8d1eb6a9a3",
   "metadata": {},
   "source": [
    "##### AT: Temperature in range 1.81-37.11 deg C\n",
    "##### V : Exhaust Vacuum in range: 25.58% to 100.16%\n",
    "##### AP: Ambient pressure in the range 992.89-1033.30 milibar\n",
    "##### RH: Relative Humidity in range 25.36-81.56 cm Hg\n",
    "##### PE: Net hourly electrical energy output : 420.26-495.76 MW"
   ]
  },
  {
   "cell_type": "code",
   "execution_count": 16,
   "id": "a2449aea-9f18-4607-85d9-6bf362e4ada6",
   "metadata": {},
   "outputs": [],
   "source": [
    "import pandas as pd\n",
    "import numpy as np\n",
    "from sklearn.model_selection import train_test_split"
   ]
  },
  {
   "cell_type": "code",
   "execution_count": 18,
   "id": "48eb7e7e-c140-44c6-a627-f37ad6d17604",
   "metadata": {},
   "outputs": [],
   "source": [
    "data = pd.read_csv(\"uciData.csv\")"
   ]
  },
  {
   "cell_type": "code",
   "execution_count": 19,
   "id": "97dcb597-265a-402c-87d5-f58a39a39920",
   "metadata": {},
   "outputs": [
    {
     "data": {
      "text/html": [
       "<div>\n",
       "<style scoped>\n",
       "    .dataframe tbody tr th:only-of-type {\n",
       "        vertical-align: middle;\n",
       "    }\n",
       "\n",
       "    .dataframe tbody tr th {\n",
       "        vertical-align: top;\n",
       "    }\n",
       "\n",
       "    .dataframe thead th {\n",
       "        text-align: right;\n",
       "    }\n",
       "</style>\n",
       "<table border=\"1\" class=\"dataframe\">\n",
       "  <thead>\n",
       "    <tr style=\"text-align: right;\">\n",
       "      <th></th>\n",
       "      <th>AT</th>\n",
       "      <th>V</th>\n",
       "      <th>AP</th>\n",
       "      <th>RH</th>\n",
       "      <th>PE</th>\n",
       "    </tr>\n",
       "  </thead>\n",
       "  <tbody>\n",
       "    <tr>\n",
       "      <th>0</th>\n",
       "      <td>14.96</td>\n",
       "      <td>41.76</td>\n",
       "      <td>1024.07</td>\n",
       "      <td>73.17</td>\n",
       "      <td>463.26</td>\n",
       "    </tr>\n",
       "    <tr>\n",
       "      <th>1</th>\n",
       "      <td>25.18</td>\n",
       "      <td>62.96</td>\n",
       "      <td>1020.04</td>\n",
       "      <td>59.08</td>\n",
       "      <td>444.37</td>\n",
       "    </tr>\n",
       "    <tr>\n",
       "      <th>2</th>\n",
       "      <td>5.11</td>\n",
       "      <td>39.40</td>\n",
       "      <td>1012.16</td>\n",
       "      <td>92.14</td>\n",
       "      <td>488.56</td>\n",
       "    </tr>\n",
       "    <tr>\n",
       "      <th>3</th>\n",
       "      <td>20.86</td>\n",
       "      <td>57.32</td>\n",
       "      <td>1010.24</td>\n",
       "      <td>76.64</td>\n",
       "      <td>446.48</td>\n",
       "    </tr>\n",
       "    <tr>\n",
       "      <th>4</th>\n",
       "      <td>10.82</td>\n",
       "      <td>37.50</td>\n",
       "      <td>1009.23</td>\n",
       "      <td>96.62</td>\n",
       "      <td>473.90</td>\n",
       "    </tr>\n",
       "  </tbody>\n",
       "</table>\n",
       "</div>"
      ],
      "text/plain": [
       "      AT      V       AP     RH      PE\n",
       "0  14.96  41.76  1024.07  73.17  463.26\n",
       "1  25.18  62.96  1020.04  59.08  444.37\n",
       "2   5.11  39.40  1012.16  92.14  488.56\n",
       "3  20.86  57.32  1010.24  76.64  446.48\n",
       "4  10.82  37.50  1009.23  96.62  473.90"
      ]
     },
     "execution_count": 19,
     "metadata": {},
     "output_type": "execute_result"
    }
   ],
   "source": [
    "data.head() # display top 5 rows of dataset"
   ]
  },
  {
   "cell_type": "markdown",
   "id": "90523226-75ab-4132-a6fe-40a41a6241ed",
   "metadata": {},
   "source": [
    "##### Define X = independent variables data, y = dependent variables data"
   ]
  },
  {
   "cell_type": "code",
   "execution_count": 20,
   "id": "3aa27089-0cc4-4db9-94c2-28fc27d8fc49",
   "metadata": {},
   "outputs": [],
   "source": [
    "x = data.drop(['PE'],axis=1).values  # independent variables values\n",
    "y = data['PE'].values  # dependent variable"
   ]
  },
  {
   "cell_type": "markdown",
   "id": "2fcc0840-1558-4712-aaf2-498c691d784e",
   "metadata": {},
   "source": [
    "##### Split dataset into training and test set"
   ]
  },
  {
   "cell_type": "code",
   "execution_count": null,
   "id": "db9b2e52-2b2b-425f-a947-ffa9b8635404",
   "metadata": {},
   "outputs": [],
   "source": [
    "x_train, x_test, y_train, y_test"
   ]
  }
 ],
 "metadata": {
  "kernelspec": {
   "display_name": "Python 3 (ipykernel)",
   "language": "python",
   "name": "python3"
  },
  "language_info": {
   "codemirror_mode": {
    "name": "ipython",
    "version": 3
   },
   "file_extension": ".py",
   "mimetype": "text/x-python",
   "name": "python",
   "nbconvert_exporter": "python",
   "pygments_lexer": "ipython3",
   "version": "3.11.4"
  }
 },
 "nbformat": 4,
 "nbformat_minor": 5
}
